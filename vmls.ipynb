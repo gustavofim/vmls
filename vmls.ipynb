{
 "cells": [
  {
   "cell_type": "markdown",
   "id": "bb436eb1",
   "metadata": {},
   "source": [
    "# VMLS\n",
    "\n",
    "---"
   ]
  },
  {
   "cell_type": "markdown",
   "id": "a423e5df",
   "metadata": {},
   "source": [
    "## Questão 10.31"
   ]
  },
  {
   "cell_type": "code",
   "execution_count": null,
   "id": "33e383d0",
   "metadata": {},
   "outputs": [],
   "source": [
    "!pip install networkx"
   ]
  },
  {
   "cell_type": "code",
   "execution_count": 2,
   "id": "51634444",
   "metadata": {},
   "outputs": [],
   "source": [
    "import networkx as nx\n",
    "import numpy as np"
   ]
  },
  {
   "cell_type": "markdown",
   "id": "751f4d27",
   "metadata": {},
   "source": [
    "- https://en.wikipedia.org/wiki/Barab%C3%A1si%E2%80%93Albert_model\n",
    "    - Garantidamente conectado;\n",
    "    - Boa representação de sistemas naturais e feitos pelo homem."
   ]
  },
  {
   "cell_type": "code",
   "execution_count": 3,
   "id": "29b60fea",
   "metadata": {},
   "outputs": [],
   "source": [
    "# Número de pessoas\n",
    "n = 10000\n",
    "# Número de amigos por pessoa\n",
    "m = 10\n",
    "# Gerar grafo aleatório\n",
    "G = nx.barabasi_albert_graph(n, m)"
   ]
  },
  {
   "cell_type": "code",
   "execution_count": 4,
   "id": "5441596c",
   "metadata": {},
   "outputs": [],
   "source": [
    "A = nx.to_numpy_array(G)"
   ]
  },
  {
   "cell_type": "markdown",
   "id": "b9035730",
   "metadata": {},
   "source": [
    "- https://math.stackexchange.com/questions/2434064/proof-raising-adjacency-matrix-to-n-th-power-gives-n-length-walks-between\n",
    "    - Se $P = A^n$, $P$ representa os caminhos de comprimento $n$."
   ]
  },
  {
   "cell_type": "code",
   "execution_count": 5,
   "id": "c322610d",
   "metadata": {},
   "outputs": [],
   "source": [
    "def diameter(A):\n",
    "    k = 0\n",
    "    while(True):\n",
    "        k = k + 1\n",
    "        if k == 1: P = A\n",
    "        else: P = P @ A\n",
    "        if 0 not in P:\n",
    "            return k"
   ]
  },
  {
   "cell_type": "code",
   "execution_count": 6,
   "id": "bfa6cfee",
   "metadata": {},
   "outputs": [
    {
     "name": "stdout",
     "output_type": "stream",
     "text": [
      "5\n"
     ]
    }
   ],
   "source": [
    "print(diameter(A))"
   ]
  },
  {
   "cell_type": "code",
   "execution_count": null,
   "id": "aebea277",
   "metadata": {},
   "outputs": [],
   "source": []
  }
 ],
 "metadata": {
  "kernelspec": {
   "display_name": "Python 3 (ipykernel)",
   "language": "python",
   "name": "python3"
  },
  "language_info": {
   "codemirror_mode": {
    "name": "ipython",
    "version": 3
   },
   "file_extension": ".py",
   "mimetype": "text/x-python",
   "name": "python",
   "nbconvert_exporter": "python",
   "pygments_lexer": "ipython3",
   "version": "3.9.0"
  }
 },
 "nbformat": 4,
 "nbformat_minor": 5
}
